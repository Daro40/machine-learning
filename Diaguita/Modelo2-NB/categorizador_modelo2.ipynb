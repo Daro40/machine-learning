{
 "cells": [
  {
   "cell_type": "markdown",
   "metadata": {},
   "source": [
    "# Inteligencia artificial aplicada al Diaguita\n",
    "## Modelo 2: de Classification supervised learning\n",
    "\n",
    "En este modelo creamos la bag of words con TfidfVectorizer y la clasificación con Naive Bayes(MultinomialNB)\n",
    "\n",
    "Utilizmos bienes ya catalogados extraidos de la base de una universidad para el entrenamiento y testeo del modelo\n",
    "\n",
    "Utilizmos como input la descripción de los items y como target/ label/ output el rubro de los items"
   ]
  },
  {
   "cell_type": "code",
   "execution_count": 131,
   "metadata": {},
   "outputs": [],
   "source": [
    "import pandas as pd\n",
    "from sklearn.model_selection import train_test_split\n",
    "import numpy as np"
   ]
  },
  {
   "cell_type": "code",
   "execution_count": 132,
   "metadata": {},
   "outputs": [
    {
     "name": "stderr",
     "output_type": "stream",
     "text": [
      "/home/daro40/anaconda3/lib/python3.7/site-packages/IPython/core/interactiveshell.py:3020: DtypeWarning: Columns (7) have mixed types. Specify dtype option on import or set low_memory=False.\n",
      "  interactivity=interactivity, compiler=compiler, result=result)\n"
     ]
    }
   ],
   "source": [
    "catalogo=pd.read_csv(r'/home/daro40/Documentos/catalogo_unc.csv')\n",
    "renglones=pd.read_csv(r'/home/daro40/Documentos/renglones_unc.csv')"
   ]
  },
  {
   "cell_type": "code",
   "execution_count": 133,
   "metadata": {},
   "outputs": [],
   "source": [
    "df_renglones=renglones.loc[:,['descripcion','rubro','id_catalogo_bien_servicio']]"
   ]
  },
  {
   "cell_type": "code",
   "execution_count": 134,
   "metadata": {},
   "outputs": [],
   "source": [
    "#Eliminamos renglones con datos faltantes\n",
    "df_renglones=df_renglones.dropna()"
   ]
  },
  {
   "cell_type": "code",
   "execution_count": 135,
   "metadata": {},
   "outputs": [],
   "source": [
    "df_renglones['id_catalogo_bien_servicio']=df_renglones['id_catalogo_bien_servicio'].astype(int)"
   ]
  },
  {
   "cell_type": "code",
   "execution_count": 136,
   "metadata": {},
   "outputs": [
    {
     "name": "stdout",
     "output_type": "stream",
     "text": [
      "<class 'pandas.core.frame.DataFrame'>\n",
      "RangeIndex: 7597 entries, 0 to 7596\n",
      "Data columns (total 11 columns):\n",
      "id_catalogo_bien_servicio          7597 non-null int64\n",
      "id_catalogo_bien_servicio_padre    7589 non-null float64\n",
      "codigo                             7597 non-null object\n",
      "codigo_completo                    7596 non-null object\n",
      "nombre                             7597 non-null object\n",
      "nivel                              7597 non-null int64\n",
      "id_bien_servicio_tipo              7597 non-null object\n",
      "estado                             7597 non-null object\n",
      "revision                           0 non-null float64\n",
      "id_arai                            0 non-null float64\n",
      "sincronizar                        7597 non-null object\n",
      "dtypes: float64(3), int64(2), object(6)\n",
      "memory usage: 652.9+ KB\n"
     ]
    }
   ],
   "source": [
    "catalogo.info()"
   ]
  },
  {
   "cell_type": "code",
   "execution_count": 137,
   "metadata": {},
   "outputs": [],
   "source": [
    "#Hacemos un merge de las tablas que tienen los renglones, con descripción, rubro, y demás datos, con la de catálogos\n",
    "df_combinado=pd.merge(df_renglones,catalogo)"
   ]
  },
  {
   "cell_type": "code",
   "execution_count": 138,
   "metadata": {},
   "outputs": [
    {
     "data": {
      "text/html": [
       "<div>\n",
       "<style scoped>\n",
       "    .dataframe tbody tr th:only-of-type {\n",
       "        vertical-align: middle;\n",
       "    }\n",
       "\n",
       "    .dataframe tbody tr th {\n",
       "        vertical-align: top;\n",
       "    }\n",
       "\n",
       "    .dataframe thead th {\n",
       "        text-align: right;\n",
       "    }\n",
       "</style>\n",
       "<table border=\"1\" class=\"dataframe\">\n",
       "  <thead>\n",
       "    <tr style=\"text-align: right;\">\n",
       "      <th></th>\n",
       "      <th>descripcion</th>\n",
       "      <th>rubro</th>\n",
       "      <th>id_catalogo_bien_servicio</th>\n",
       "      <th>id_catalogo_bien_servicio_padre</th>\n",
       "      <th>codigo</th>\n",
       "      <th>codigo_completo</th>\n",
       "      <th>nombre</th>\n",
       "      <th>nivel</th>\n",
       "      <th>id_bien_servicio_tipo</th>\n",
       "      <th>estado</th>\n",
       "      <th>revision</th>\n",
       "      <th>id_arai</th>\n",
       "      <th>sincronizar</th>\n",
       "    </tr>\n",
       "  </thead>\n",
       "  <tbody>\n",
       "    <tr>\n",
       "      <th>0</th>\n",
       "      <td>ESCRITORIOS</td>\n",
       "      <td>27</td>\n",
       "      <td>10005368</td>\n",
       "      <td>6048.0</td>\n",
       "      <td>40</td>\n",
       "      <td>4.3.7.00040</td>\n",
       "      <td>ESCRITORIO</td>\n",
       "      <td>4</td>\n",
       "      <td>U</td>\n",
       "      <td>AC</td>\n",
       "      <td>NaN</td>\n",
       "      <td>NaN</td>\n",
       "      <td>N</td>\n",
       "    </tr>\n",
       "    <tr>\n",
       "      <th>1</th>\n",
       "      <td>ESCRITORIOS: \\nDescripción: 0,70 x 1,40. x 0,7...</td>\n",
       "      <td>27</td>\n",
       "      <td>10005368</td>\n",
       "      <td>6048.0</td>\n",
       "      <td>40</td>\n",
       "      <td>4.3.7.00040</td>\n",
       "      <td>ESCRITORIO</td>\n",
       "      <td>4</td>\n",
       "      <td>U</td>\n",
       "      <td>AC</td>\n",
       "      <td>NaN</td>\n",
       "      <td>NaN</td>\n",
       "      <td>N</td>\n",
       "    </tr>\n",
       "    <tr>\n",
       "      <th>2</th>\n",
       "      <td>Muebles Varios</td>\n",
       "      <td>27</td>\n",
       "      <td>10005368</td>\n",
       "      <td>6048.0</td>\n",
       "      <td>40</td>\n",
       "      <td>4.3.7.00040</td>\n",
       "      <td>ESCRITORIO</td>\n",
       "      <td>4</td>\n",
       "      <td>U</td>\n",
       "      <td>AC</td>\n",
       "      <td>NaN</td>\n",
       "      <td>NaN</td>\n",
       "      <td>N</td>\n",
       "    </tr>\n",
       "    <tr>\n",
       "      <th>3</th>\n",
       "      <td>Compra de mobiliario para el Laboratorio de Co...</td>\n",
       "      <td>27</td>\n",
       "      <td>10005368</td>\n",
       "      <td>6048.0</td>\n",
       "      <td>40</td>\n",
       "      <td>4.3.7.00040</td>\n",
       "      <td>ESCRITORIO</td>\n",
       "      <td>4</td>\n",
       "      <td>U</td>\n",
       "      <td>AC</td>\n",
       "      <td>NaN</td>\n",
       "      <td>NaN</td>\n",
       "      <td>N</td>\n",
       "    </tr>\n",
       "    <tr>\n",
       "      <th>4</th>\n",
       "      <td>ESCRITORIO</td>\n",
       "      <td>27</td>\n",
       "      <td>10005368</td>\n",
       "      <td>6048.0</td>\n",
       "      <td>40</td>\n",
       "      <td>4.3.7.00040</td>\n",
       "      <td>ESCRITORIO</td>\n",
       "      <td>4</td>\n",
       "      <td>U</td>\n",
       "      <td>AC</td>\n",
       "      <td>NaN</td>\n",
       "      <td>NaN</td>\n",
       "      <td>N</td>\n",
       "    </tr>\n",
       "    <tr>\n",
       "      <th>5</th>\n",
       "      <td>ESCRITORIO CON CAJONES</td>\n",
       "      <td>27</td>\n",
       "      <td>10005368</td>\n",
       "      <td>6048.0</td>\n",
       "      <td>40</td>\n",
       "      <td>4.3.7.00040</td>\n",
       "      <td>ESCRITORIO</td>\n",
       "      <td>4</td>\n",
       "      <td>U</td>\n",
       "      <td>AC</td>\n",
       "      <td>NaN</td>\n",
       "      <td>NaN</td>\n",
       "      <td>N</td>\n",
       "    </tr>\n",
       "    <tr>\n",
       "      <th>6</th>\n",
       "      <td>Escritorio de melamina blanco MDF de 18 mm de ...</td>\n",
       "      <td>27</td>\n",
       "      <td>10005368</td>\n",
       "      <td>6048.0</td>\n",
       "      <td>40</td>\n",
       "      <td>4.3.7.00040</td>\n",
       "      <td>ESCRITORIO</td>\n",
       "      <td>4</td>\n",
       "      <td>U</td>\n",
       "      <td>AC</td>\n",
       "      <td>NaN</td>\n",
       "      <td>NaN</td>\n",
       "      <td>N</td>\n",
       "    </tr>\n",
       "    <tr>\n",
       "      <th>7</th>\n",
       "      <td>ESCRITORIOS ESTRUCTURA DE CAÑO CON PLACAS DE A...</td>\n",
       "      <td>27</td>\n",
       "      <td>10005368</td>\n",
       "      <td>6048.0</td>\n",
       "      <td>40</td>\n",
       "      <td>4.3.7.00040</td>\n",
       "      <td>ESCRITORIO</td>\n",
       "      <td>4</td>\n",
       "      <td>U</td>\n",
       "      <td>AC</td>\n",
       "      <td>NaN</td>\n",
       "      <td>NaN</td>\n",
       "      <td>N</td>\n",
       "    </tr>\n",
       "    <tr>\n",
       "      <th>8</th>\n",
       "      <td>ECRITORIO MELAMINA NEGRO 2000 X 900 MM</td>\n",
       "      <td>27</td>\n",
       "      <td>10005368</td>\n",
       "      <td>6048.0</td>\n",
       "      <td>40</td>\n",
       "      <td>4.3.7.00040</td>\n",
       "      <td>ESCRITORIO</td>\n",
       "      <td>4</td>\n",
       "      <td>U</td>\n",
       "      <td>AC</td>\n",
       "      <td>NaN</td>\n",
       "      <td>NaN</td>\n",
       "      <td>N</td>\n",
       "    </tr>\n",
       "    <tr>\n",
       "      <th>9</th>\n",
       "      <td>ESCRITORIO MELAMINA NEGRO 2000 X 900 MM</td>\n",
       "      <td>27</td>\n",
       "      <td>10005368</td>\n",
       "      <td>6048.0</td>\n",
       "      <td>40</td>\n",
       "      <td>4.3.7.00040</td>\n",
       "      <td>ESCRITORIO</td>\n",
       "      <td>4</td>\n",
       "      <td>U</td>\n",
       "      <td>AC</td>\n",
       "      <td>NaN</td>\n",
       "      <td>NaN</td>\n",
       "      <td>N</td>\n",
       "    </tr>\n",
       "  </tbody>\n",
       "</table>\n",
       "</div>"
      ],
      "text/plain": [
       "                                         descripcion  rubro  \\\n",
       "0                                        ESCRITORIOS     27   \n",
       "1  ESCRITORIOS: \\nDescripción: 0,70 x 1,40. x 0,7...     27   \n",
       "2                                     Muebles Varios     27   \n",
       "3  Compra de mobiliario para el Laboratorio de Co...     27   \n",
       "4                                         ESCRITORIO     27   \n",
       "5                             ESCRITORIO CON CAJONES     27   \n",
       "6  Escritorio de melamina blanco MDF de 18 mm de ...     27   \n",
       "7  ESCRITORIOS ESTRUCTURA DE CAÑO CON PLACAS DE A...     27   \n",
       "8             ECRITORIO MELAMINA NEGRO 2000 X 900 MM     27   \n",
       "9            ESCRITORIO MELAMINA NEGRO 2000 X 900 MM     27   \n",
       "\n",
       "   id_catalogo_bien_servicio  id_catalogo_bien_servicio_padre codigo  \\\n",
       "0                   10005368                           6048.0     40   \n",
       "1                   10005368                           6048.0     40   \n",
       "2                   10005368                           6048.0     40   \n",
       "3                   10005368                           6048.0     40   \n",
       "4                   10005368                           6048.0     40   \n",
       "5                   10005368                           6048.0     40   \n",
       "6                   10005368                           6048.0     40   \n",
       "7                   10005368                           6048.0     40   \n",
       "8                   10005368                           6048.0     40   \n",
       "9                   10005368                           6048.0     40   \n",
       "\n",
       "  codigo_completo      nombre  nivel id_bien_servicio_tipo estado  revision  \\\n",
       "0     4.3.7.00040  ESCRITORIO      4                     U     AC       NaN   \n",
       "1     4.3.7.00040  ESCRITORIO      4                     U     AC       NaN   \n",
       "2     4.3.7.00040  ESCRITORIO      4                     U     AC       NaN   \n",
       "3     4.3.7.00040  ESCRITORIO      4                     U     AC       NaN   \n",
       "4     4.3.7.00040  ESCRITORIO      4                     U     AC       NaN   \n",
       "5     4.3.7.00040  ESCRITORIO      4                     U     AC       NaN   \n",
       "6     4.3.7.00040  ESCRITORIO      4                     U     AC       NaN   \n",
       "7     4.3.7.00040  ESCRITORIO      4                     U     AC       NaN   \n",
       "8     4.3.7.00040  ESCRITORIO      4                     U     AC       NaN   \n",
       "9     4.3.7.00040  ESCRITORIO      4                     U     AC       NaN   \n",
       "\n",
       "   id_arai sincronizar  \n",
       "0      NaN           N  \n",
       "1      NaN           N  \n",
       "2      NaN           N  \n",
       "3      NaN           N  \n",
       "4      NaN           N  \n",
       "5      NaN           N  \n",
       "6      NaN           N  \n",
       "7      NaN           N  \n",
       "8      NaN           N  \n",
       "9      NaN           N  "
      ]
     },
     "execution_count": 138,
     "metadata": {},
     "output_type": "execute_result"
    }
   ],
   "source": [
    "df_combinado.head(10)"
   ]
  },
  {
   "cell_type": "code",
   "execution_count": 139,
   "metadata": {},
   "outputs": [],
   "source": [
    "#Armamos la feature (por ahora una sola, la descripción), y primero pasamos todas las letras a minusculas\n",
    "X=df_combinado['descripcion'].str.lower()"
   ]
  },
  {
   "cell_type": "code",
   "execution_count": 140,
   "metadata": {},
   "outputs": [],
   "source": [
    "#Primero utilizamos como label el rubro\n",
    "y=df_combinado['rubro']"
   ]
  },
  {
   "cell_type": "code",
   "execution_count": 141,
   "metadata": {},
   "outputs": [],
   "source": [
    "#y=pd.get_dummies(y)"
   ]
  },
  {
   "cell_type": "code",
   "execution_count": 142,
   "metadata": {},
   "outputs": [],
   "source": [
    "#Armamos una lista con las stopwords de español\n",
    "from nltk.corpus import stopwords\n",
    "stopwords.fileids()\n",
    "stopWords = set(stopwords.words('spanish'))"
   ]
  },
  {
   "cell_type": "code",
   "execution_count": 143,
   "metadata": {},
   "outputs": [],
   "source": [
    "#Para armar el bag of words(BoW) utilizamos el TfidfVectorizer\n",
    "\n",
    "from sklearn.feature_extraction.text import TfidfVectorizer\n",
    "#Revisar parámetros\n",
    "tfidf = TfidfVectorizer(min_df=1, stop_words=stopWords,token_pattern=r'(?u)\\b[A-Za-z]+\\b')\n",
    "\n",
    "X_tf = tfidf.fit_transform(X)\n",
    "\n",
    "#tfidf.get_feature_names()"
   ]
  },
  {
   "cell_type": "code",
   "execution_count": 144,
   "metadata": {},
   "outputs": [],
   "source": [
    "#Dividimos la base para entrenamiento y testeo\n",
    "X_train, X_test, y_train, y_test = train_test_split(X_tf, y, test_size = 0.2, random_state=42)"
   ]
  },
  {
   "cell_type": "code",
   "execution_count": 145,
   "metadata": {},
   "outputs": [
    {
     "data": {
      "text/plain": [
       "MultinomialNB(alpha=1.0, class_prior=None, fit_prior=True)"
      ]
     },
     "execution_count": 145,
     "metadata": {},
     "output_type": "execute_result"
    }
   ],
   "source": [
    "#Utilizamos Naive Bayes para la clasificación\n",
    "from sklearn.naive_bayes import MultinomialNB\n",
    "y_train=y_train.astype('int')\n",
    "mnb=MultinomialNB()\n",
    "mnb.fit(X_train,y_train)"
   ]
  },
  {
   "cell_type": "markdown",
   "metadata": {},
   "source": [
    "pl.fit(X_train, y_train)"
   ]
  },
  {
   "cell_type": "code",
   "execution_count": 146,
   "metadata": {},
   "outputs": [
    {
     "data": {
      "text/plain": [
       "0.8642062928791104"
      ]
     },
     "execution_count": 146,
     "metadata": {},
     "output_type": "execute_result"
    }
   ],
   "source": [
    "#Medimos la precisión del modelo\n",
    "mnb.score(X_train,y_train)"
   ]
  },
  {
   "cell_type": "code",
   "execution_count": 150,
   "metadata": {},
   "outputs": [
    {
     "data": {
      "text/plain": [
       "array([51, 51, 51, 51, 13, 51,  3])"
      ]
     },
     "execution_count": 150,
     "metadata": {},
     "output_type": "execute_result"
    }
   ],
   "source": [
    "#Verificamos la predicción del modelo con algunos posibles items:\n",
    "\n",
    "test=pd.Series(['tornillo','monitor','silla', 'aguja', 'computadora','zapatillas', 'mueble' ], name='descripcion')\n",
    "test_tf=tfidf.transform(test)\n",
    "\n",
    "c= mnb.predict(test_tf)\n",
    "c"
   ]
  },
  {
   "cell_type": "code",
   "execution_count": null,
   "metadata": {},
   "outputs": [],
   "source": []
  }
 ],
 "metadata": {
  "kernelspec": {
   "display_name": "Python 3",
   "language": "python",
   "name": "python3"
  },
  "language_info": {
   "codemirror_mode": {
    "name": "ipython",
    "version": 3
   },
   "file_extension": ".py",
   "mimetype": "text/x-python",
   "name": "python",
   "nbconvert_exporter": "python",
   "pygments_lexer": "ipython3",
   "version": "3.7.1"
  }
 },
 "nbformat": 4,
 "nbformat_minor": 2
}
