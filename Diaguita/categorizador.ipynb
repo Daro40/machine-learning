{
 "cells": [
  {
   "cell_type": "code",
   "execution_count": 3,
   "metadata": {},
   "outputs": [],
   "source": [
    "import pandas as pd"
   ]
  },
  {
   "cell_type": "code",
   "execution_count": 5,
   "metadata": {},
   "outputs": [],
   "source": [
    "catalogo=pd.read_csv(r'/home/daro40/Documentos/catalogo.csv')\n",
    "renglones=pd.read_csv(r'/home/daro40/Documentos/renglones.csv')"
   ]
  },
  {
   "cell_type": "code",
   "execution_count": 6,
   "metadata": {},
   "outputs": [
    {
     "data": {
      "text/html": [
       "<div>\n",
       "<style scoped>\n",
       "    .dataframe tbody tr th:only-of-type {\n",
       "        vertical-align: middle;\n",
       "    }\n",
       "\n",
       "    .dataframe tbody tr th {\n",
       "        vertical-align: top;\n",
       "    }\n",
       "\n",
       "    .dataframe thead th {\n",
       "        text-align: right;\n",
       "    }\n",
       "</style>\n",
       "<table border=\"1\" class=\"dataframe\">\n",
       "  <thead>\n",
       "    <tr style=\"text-align: right;\">\n",
       "      <th></th>\n",
       "      <th>id_catalogo_bien_servicio</th>\n",
       "      <th>id_catalogo_bien_servicio_padre</th>\n",
       "      <th>codigo</th>\n",
       "      <th>codigo_completo</th>\n",
       "      <th>nombre</th>\n",
       "      <th>nivel</th>\n",
       "      <th>id_bien_servicio_tipo</th>\n",
       "      <th>estado</th>\n",
       "      <th>revision</th>\n",
       "      <th>id_arai</th>\n",
       "      <th>sincronizar</th>\n",
       "    </tr>\n",
       "  </thead>\n",
       "  <tbody>\n",
       "    <tr>\n",
       "      <th>0</th>\n",
       "      <td>5987</td>\n",
       "      <td>5865.0</td>\n",
       "      <td>2</td>\n",
       "      <td>3.1.2.00000</td>\n",
       "      <td>AGUA</td>\n",
       "      <td>3</td>\n",
       "      <td>S</td>\n",
       "      <td>AC</td>\n",
       "      <td>NaN</td>\n",
       "      <td>NaN</td>\n",
       "      <td>N</td>\n",
       "    </tr>\n",
       "    <tr>\n",
       "      <th>1</th>\n",
       "      <td>10002573</td>\n",
       "      <td>5953.0</td>\n",
       "      <td>5664</td>\n",
       "      <td>2.5.1.05664</td>\n",
       "      <td>AMONIO</td>\n",
       "      <td>4</td>\n",
       "      <td>C</td>\n",
       "      <td>AC</td>\n",
       "      <td>NaN</td>\n",
       "      <td>NaN</td>\n",
       "      <td>N</td>\n",
       "    </tr>\n",
       "    <tr>\n",
       "      <th>2</th>\n",
       "      <td>10002574</td>\n",
       "      <td>5953.0</td>\n",
       "      <td>5665</td>\n",
       "      <td>2.5.1.05665</td>\n",
       "      <td>SODIO</td>\n",
       "      <td>4</td>\n",
       "      <td>C</td>\n",
       "      <td>AC</td>\n",
       "      <td>NaN</td>\n",
       "      <td>NaN</td>\n",
       "      <td>N</td>\n",
       "    </tr>\n",
       "    <tr>\n",
       "      <th>3</th>\n",
       "      <td>10002575</td>\n",
       "      <td>5953.0</td>\n",
       "      <td>5666</td>\n",
       "      <td>2.5.1.05666</td>\n",
       "      <td>SODIO</td>\n",
       "      <td>4</td>\n",
       "      <td>C</td>\n",
       "      <td>AC</td>\n",
       "      <td>NaN</td>\n",
       "      <td>NaN</td>\n",
       "      <td>N</td>\n",
       "    </tr>\n",
       "    <tr>\n",
       "      <th>4</th>\n",
       "      <td>10003480</td>\n",
       "      <td>5973.0</td>\n",
       "      <td>727</td>\n",
       "      <td>2.7.9.00727</td>\n",
       "      <td>CERROJO</td>\n",
       "      <td>4</td>\n",
       "      <td>C</td>\n",
       "      <td>AC</td>\n",
       "      <td>NaN</td>\n",
       "      <td>NaN</td>\n",
       "      <td>N</td>\n",
       "    </tr>\n",
       "  </tbody>\n",
       "</table>\n",
       "</div>"
      ],
      "text/plain": [
       "   id_catalogo_bien_servicio  id_catalogo_bien_servicio_padre  codigo  \\\n",
       "0                       5987                           5865.0       2   \n",
       "1                   10002573                           5953.0    5664   \n",
       "2                   10002574                           5953.0    5665   \n",
       "3                   10002575                           5953.0    5666   \n",
       "4                   10003480                           5973.0     727   \n",
       "\n",
       "  codigo_completo   nombre  nivel id_bien_servicio_tipo estado  revision  \\\n",
       "0     3.1.2.00000     AGUA      3                     S     AC       NaN   \n",
       "1     2.5.1.05664   AMONIO      4                     C     AC       NaN   \n",
       "2     2.5.1.05665    SODIO      4                     C     AC       NaN   \n",
       "3     2.5.1.05666    SODIO      4                     C     AC       NaN   \n",
       "4     2.7.9.00727  CERROJO      4                     C     AC       NaN   \n",
       "\n",
       "   id_arai sincronizar  \n",
       "0      NaN           N  \n",
       "1      NaN           N  \n",
       "2      NaN           N  \n",
       "3      NaN           N  \n",
       "4      NaN           N  "
      ]
     },
     "execution_count": 6,
     "metadata": {},
     "output_type": "execute_result"
    }
   ],
   "source": [
    "catalogo.head()"
   ]
  },
  {
   "cell_type": "code",
   "execution_count": null,
   "metadata": {},
   "outputs": [],
   "source": [
    "renglones.head()\n",
    "renglones.info()"
   ]
  },
  {
   "cell_type": "code",
   "execution_count": 40,
   "metadata": {},
   "outputs": [],
   "source": [
    "df_renglones=renglones.loc[:,['descripcion','rubro','id_catalogo_bien_servicio']]"
   ]
  },
  {
   "cell_type": "code",
   "execution_count": 46,
   "metadata": {},
   "outputs": [],
   "source": [
    "df_renglones=df_renglones.dropna()"
   ]
  },
  {
   "cell_type": "code",
   "execution_count": 47,
   "metadata": {},
   "outputs": [],
   "source": [
    "df_renglones['id_catalogo_bien_servicio']=df_renglones['id_catalogo_bien_servicio'].astype(int)"
   ]
  },
  {
   "cell_type": "code",
   "execution_count": null,
   "metadata": {},
   "outputs": [],
   "source": []
  }
 ],
 "metadata": {
  "kernelspec": {
   "display_name": "Python 3",
   "language": "python",
   "name": "python3"
  },
  "language_info": {
   "codemirror_mode": {
    "name": "ipython",
    "version": 3
   },
   "file_extension": ".py",
   "mimetype": "text/x-python",
   "name": "python",
   "nbconvert_exporter": "python",
   "pygments_lexer": "ipython3",
   "version": "3.7.1"
  }
 },
 "nbformat": 4,
 "nbformat_minor": 2
}
